{
 "cells": [
  {
   "cell_type": "code",
   "execution_count": 1,
   "metadata": {
    "collapsed": false
   },
   "outputs": [
    {
     "name": "stdout",
     "output_type": "stream",
     "text": [
      "Populating the interactive namespace from numpy and matplotlib\n"
     ]
    }
   ],
   "source": [
    "import pandas as pd\n",
    "import numpy as np\n",
    "import matplotlib.pyplot as plt\n",
    "import seaborn as sns\n",
    "from xgboost import XGBClassifier, XGBRegressor\n",
    "\n",
    "from sklearn.model_selection import train_test_split, cross_val_score, GridSearchCV\n",
    "from sklearn.metrics import roc_auc_score\n",
    "\n",
    "%pylab inline"
   ]
  },
  {
   "cell_type": "code",
   "execution_count": 2,
   "metadata": {
    "collapsed": true
   },
   "outputs": [],
   "source": [
    "# Training set is too large for me to run locally\n",
    "train = pd.read_csv('train.csv')\n",
    "train = train.sample(20000)\n",
    "\n",
    "test = pd.read_csv('test.csv')\n",
    "\n",
    "# Don't currently need\n",
    "# combi = pd.concat([train, test])\n",
    "\n",
    "# For readability\n",
    "train['comment_text'] = train['comment_text'].str.replace('\\n', ' ')\n",
    "test['comment_text'] = test['comment_text'].str.replace('\\n', ' ')"
   ]
  },
  {
   "cell_type": "code",
   "execution_count": 3,
   "metadata": {
    "collapsed": false
   },
   "outputs": [],
   "source": [
    "x = train['comment_text']\n",
    "\n",
    "# Y is one-hot encoded, so let's change it for Tfidf\n",
    "y = np.zeros_like(train['toxic'])\n",
    "\n",
    "y = np.where(train.toxic == 1, 'toxic', y)\n",
    "y = np.where(train['severe_toxic'] == 1, 'severe_toxic', y)\n",
    "y = np.where(train['obscene'] == 1, 'obscene', y)\n",
    "y = np.where(train['threat'] == 1, 'threat', y)\n",
    "y = np.where(train['insult'] == 1, 'insult', y)\n",
    "y = np.where(train['identity_hate'] == 1, 'identity_hate', y)\n",
    "y = np.where(y == '0', 'ok', y)\n",
    "\n",
    "# Going to also try making this a binary classification problem\n",
    "# IMO, all that should matter is whether the comment is ok or not\n",
    "y_binary = np.where(y == 'ok', 0, 1)"
   ]
  },
  {
   "cell_type": "code",
   "execution_count": 16,
   "metadata": {
    "collapsed": false
   },
   "outputs": [
    {
     "name": "stdout",
     "output_type": "stream",
     "text": [
      "Pipeline(memory=None,\n",
      "     steps=[('tfidf', TfidfVectorizer(analyzer='word', binary=False, decode_error='strict',\n",
      "        dtype=<class 'numpy.int64'>, encoding='utf-8', input='content',\n",
      "        lowercase=True, max_df=0.02, max_features=None, min_df=50,\n",
      "        ngram_range=(1, 1), norm='l2', preprocessor=None, smooth_idf=True,...ty='l1', random_state=None, solver='liblinear', tol=0.0001,\n",
      "          verbose=0, warm_start=False))])\n"
     ]
    },
    {
     "name": "stderr",
     "output_type": "stream",
     "text": [
      "C:\\Users\\Vince\\Anaconda3\\lib\\site-packages\\sklearn\\metrics\\classification.py:1135: UndefinedMetricWarning: F-score is ill-defined and being set to 0.0 in labels with no predicted samples.\n",
      "  'precision', 'predicted', average, warn_for)\n",
      "C:\\Users\\Vince\\Anaconda3\\lib\\site-packages\\sklearn\\metrics\\classification.py:1135: UndefinedMetricWarning: F-score is ill-defined and being set to 0.0 in labels with no predicted samples.\n",
      "  'precision', 'predicted', average, warn_for)\n",
      "C:\\Users\\Vince\\Anaconda3\\lib\\site-packages\\sklearn\\metrics\\classification.py:1135: UndefinedMetricWarning: F-score is ill-defined and being set to 0.0 in labels with no predicted samples.\n",
      "  'precision', 'predicted', average, warn_for)\n"
     ]
    },
    {
     "name": "stdout",
     "output_type": "stream",
     "text": [
      "Mean score: 0.893709981607\n",
      "Std Dev:    0.00147451587758\n"
     ]
    },
    {
     "name": "stderr",
     "output_type": "stream",
     "text": [
      "C:\\Users\\Vince\\Anaconda3\\lib\\site-packages\\sklearn\\metrics\\classification.py:1135: UndefinedMetricWarning: F-score is ill-defined and being set to 0.0 in labels with no predicted samples.\n",
      "  'precision', 'predicted', average, warn_for)\n"
     ]
    }
   ],
   "source": [
    "# Original data\n",
    "\n",
    "from sklearn.feature_extraction.text import TfidfVectorizer\n",
    "from sklearn.pipeline import Pipeline\n",
    "from sklearn.linear_model import LogisticRegression\n",
    "from sklearn.naive_bayes import MultinomialNB\n",
    "from sklearn.metrics import make_scorer, f1_score\n",
    "\n",
    "scorer = make_scorer(f1_score, average='weighted')\n",
    "pl = Pipeline([\n",
    "    ('tfidf', TfidfVectorizer()),\n",
    "    ('classify', LogisticRegression())\n",
    "])\n",
    "\n",
    "params = [{\n",
    "    'tfidf__max_df': [.02],#np.arange(.02,.21,.02),\n",
    "    'tfidf__min_df': [50],\n",
    "    'tfidf__ngram_range': [(1,1)],\n",
    "    'tfidf__norm': ['l2'],\n",
    "    'classify__penalty': ['l1', 'l2'],\n",
    "    'classify__C': [.1, 1, 10],\n",
    "}]\n",
    "\n",
    "grid =\\\n",
    "GridSearchCV(pl, cv=3, n_jobs=-1, param_grid=params, scoring=scorer)\\\n",
    ".fit(x, y)\n",
    "\n",
    "model = grid.best_estimator_\n",
    "print(model)\n",
    "cv = cross_val_score(model, x, y, cv=4, scoring=scorer)\n",
    "\n",
    "print('Mean score:', cv.mean())\n",
    "print('Std Dev:   ', cv.std())"
   ]
  },
  {
   "cell_type": "code",
   "execution_count": 26,
   "metadata": {
    "collapsed": false
   },
   "outputs": [
    {
     "name": "stdout",
     "output_type": "stream",
     "text": [
      "Pipeline(memory=None,\n",
      "     steps=[('classify', LogisticRegression(C=10, class_weight=None, dual=False, fit_intercept=True,\n",
      "          intercept_scaling=1, max_iter=100, multi_class='ovr', n_jobs=1,\n",
      "          penalty='l2', random_state=None, solver='liblinear', tol=0.0001,\n",
      "          verbose=0, warm_start=False))])\n",
      "Mean score: 0.92948244525\n",
      "Std Dev:    0.00212889069804\n"
     ]
    }
   ],
   "source": [
    "# Binary\n",
    "\n",
    "from sklearn.feature_extraction.text import TfidfVectorizer\n",
    "from sklearn.pipeline import Pipeline\n",
    "from sklearn.linear_model import LogisticRegression\n",
    "from sklearn.naive_bayes import MultinomialNB\n",
    "\n",
    "pl = Pipeline([\n",
    "    ('tfidf', TfidfVectorizer()),\n",
    "    ('classify', LogisticRegression())\n",
    "])\n",
    "\n",
    "params = [{\n",
    "    'tfidf__max_df': [.02],#np.arange(.02,.21,.02),\n",
    "    'tfidf__min_df': [50],\n",
    "    'tfidf__ngram_range': [(1,1)],\n",
    "    'tfidf__norm': ['l2'],\n",
    "    'classify__penalty': ['l1', 'l2'],\n",
    "    'classify__C': [.1, 1, 10],\n",
    "}]\n",
    "\n",
    "grid =\\\n",
    "GridSearchCV(pl, cv=3, n_jobs=-1, param_grid=params, scoring=scorer)\\\n",
    ".fit(x, y_binary)\n",
    "\n",
    "model_binary = grid.best_estimator_\n",
    "print(model)\n",
    "cv = cross_val_score(model_binary, x, y_binary, cv=4, scoring=scorer)\n",
    "\n",
    "print('Mean score:', cv.mean())\n",
    "print('Std Dev:   ', cv.std())"
   ]
  },
  {
   "cell_type": "code",
   "execution_count": 19,
   "metadata": {
    "collapsed": false
   },
   "outputs": [],
   "source": [
    "preds = model.predict_proba(x)[:,1]"
   ]
  },
  {
   "cell_type": "code",
   "execution_count": 20,
   "metadata": {
    "collapsed": false
   },
   "outputs": [],
   "source": [
    "tfidf = TfidfVectorizer(min_df=50, max_df=.02, ngram_range=(1,1))\n",
    "\n",
    "x_all = tfidf.fit_transform(x)\n",
    "\n",
    "x_all = x_all.todense()\n",
    "\n",
    "x_all = pd.DataFrame(comments)"
   ]
  },
  {
   "cell_type": "code",
   "execution_count": 21,
   "metadata": {
    "collapsed": false
   },
   "outputs": [],
   "source": [
    "x_all['toxicity'] = preds"
   ]
  },
  {
   "cell_type": "code",
   "execution_count": 23,
   "metadata": {
    "collapsed": false
   },
   "outputs": [
    {
     "name": "stdout",
     "output_type": "stream",
     "text": [
      "Pipeline(memory=None,\n",
      "     steps=[('classify', LogisticRegression(C=10, class_weight=None, dual=False, fit_intercept=True,\n",
      "          intercept_scaling=1, max_iter=100, multi_class='ovr', n_jobs=1,\n",
      "          penalty='l2', random_state=None, solver='liblinear', tol=0.0001,\n",
      "          verbose=0, warm_start=False))])\n"
     ]
    },
    {
     "name": "stderr",
     "output_type": "stream",
     "text": [
      "C:\\Users\\Vince\\Anaconda3\\lib\\site-packages\\sklearn\\metrics\\classification.py:1135: UndefinedMetricWarning: F-score is ill-defined and being set to 0.0 in labels with no predicted samples.\n",
      "  'precision', 'predicted', average, warn_for)\n",
      "C:\\Users\\Vince\\Anaconda3\\lib\\site-packages\\sklearn\\metrics\\classification.py:1135: UndefinedMetricWarning: F-score is ill-defined and being set to 0.0 in labels with no predicted samples.\n",
      "  'precision', 'predicted', average, warn_for)\n",
      "C:\\Users\\Vince\\Anaconda3\\lib\\site-packages\\sklearn\\metrics\\classification.py:1135: UndefinedMetricWarning: F-score is ill-defined and being set to 0.0 in labels with no predicted samples.\n",
      "  'precision', 'predicted', average, warn_for)\n"
     ]
    },
    {
     "name": "stdout",
     "output_type": "stream",
     "text": [
      "Mean score: 0.90191186038\n",
      "Std Dev:    0.00137067962758\n"
     ]
    },
    {
     "name": "stderr",
     "output_type": "stream",
     "text": [
      "C:\\Users\\Vince\\Anaconda3\\lib\\site-packages\\sklearn\\metrics\\classification.py:1135: UndefinedMetricWarning: F-score is ill-defined and being set to 0.0 in labels with no predicted samples.\n",
      "  'precision', 'predicted', average, warn_for)\n"
     ]
    }
   ],
   "source": [
    "# Combined\n",
    "\n",
    "from sklearn.feature_extraction.text import TfidfVectorizer\n",
    "from sklearn.pipeline import Pipeline\n",
    "from sklearn.linear_model import LogisticRegression\n",
    "from sklearn.naive_bayes import MultinomialNB\n",
    "\n",
    "pl = Pipeline([\n",
    "    ('classify', LogisticRegression())\n",
    "])\n",
    "\n",
    "params = [{\n",
    "    'classify__penalty': ['l1', 'l2'],\n",
    "    'classify__C': [.1, 1, 10],\n",
    "}]\n",
    "\n",
    "grid =\\\n",
    "GridSearchCV(pl, cv=3, n_jobs=-1, param_grid=params, scoring=scorer)\\\n",
    ".fit(x_all, y)\n",
    "\n",
    "model = grid.best_estimator_\n",
    "print(model)\n",
    "cv = cross_val_score(model, x_all, y, cv=4, scoring=scorer)\n",
    "\n",
    "print('Mean score:', cv.mean())\n",
    "print('Std Dev:   ', cv.std())"
   ]
  },
  {
   "cell_type": "code",
   "execution_count": 24,
   "metadata": {
    "collapsed": true
   },
   "outputs": [],
   "source": [
    "def results_df(label_test, pred_proba, pred, print_report=True):\n",
    "    '''\n",
    "    Compares how well the model is identifying people compared\n",
    "    to random chance.\n",
    "    '''\n",
    "    results = pd.DataFrame()\n",
    "\n",
    "    results['actual'] = label_test\n",
    "    results['predicted'] = pred_proba\n",
    "    \n",
    "    results.sort_values('predicted', ascending=False, inplace=True)\n",
    "    \n",
    "    # Counting positive observations\n",
    "    results['model_count'] = pd.Series.cumsum(results.actual)\n",
    "    results['percentage'] = 1/len(results)\n",
    "    results['random_count'] = pd.Series.cumsum(results['percentage']) * np.sum(results['actual'])\n",
    "    \n",
    "    # Percentage of the total found\n",
    "    results['model_select'] = results['model_count']/np.sum(results['actual'])\n",
    "    results['random_select'] = pd.Series.cumsum(results.percentage)\n",
    "\n",
    "    del results['percentage']\n",
    "    \n",
    "    \n",
    "    return results"
   ]
  },
  {
   "cell_type": "code",
   "execution_count": 30,
   "metadata": {
    "collapsed": false
   },
   "outputs": [],
   "source": [
    "model_binary.fit(x, y_binary)\n",
    "pred_proba = model_binary.predict_proba(x)[:,1]\n",
    "pred = model_binary.predict(x)\n",
    "\n",
    "results = results_df(y_binary, pred_proba, pred)"
   ]
  },
  {
   "cell_type": "code",
   "execution_count": 31,
   "metadata": {
    "collapsed": true
   },
   "outputs": [],
   "source": [
    "def plot_curve(df):\n",
    "    plt.plot(df.random_select, df.model_select, color='red')\n",
    "    plt.plot(df.random_select, df.random_select, color='blue')\n",
    "\n",
    "    plt.ylabel('Percent found')\n",
    "    plt.xlabel('Percent selected')\n",
    "\n",
    "    plt.ylim(0,1)\n",
    "    plt.xlim(0,1)\n",
    "\n",
    "    plt.xticks([0, .25, .5, .75, 1])\n",
    "    plt.yticks([.1, .2, .3, .4,\n",
    "                .5, .6, .7, .8, .9, 1])\n",
    "\n",
    "    from pylab import rcParams\n",
    "    rcParams['figure.figsize'] = 10, 6"
   ]
  },
  {
   "cell_type": "code",
   "execution_count": 32,
   "metadata": {
    "collapsed": false
   },
   "outputs": [
    {
     "data": {
      "image/png": "[encoded data removed]",
      "text/plain": [
       "<matplotlib.figure.Figure at 0x212be4686a0>"
      ]
     },
     "metadata": {},
     "output_type": "display_data"
    }
   ],
   "source": [
    "plot_curve(results)"
   ]
  },
  {
   "cell_type": "code",
   "execution_count": 33,
   "metadata": {
    "collapsed": false
   },
   "outputs": [],
   "source": [
    "from sklearn.feature_extraction.text import CountVectorizer\n",
    "\n",
    "def word_probabilities(col, pipeline=pl, min_df=.01):\n",
    "    words_dict = {}\n",
    "    bow_transformer = CountVectorizer(min_df=min_df, ngram_range=(1,3))\n",
    "    bow_transformer.fit(col)\n",
    "\n",
    "    for word in bow_transformer.vocabulary_.keys():\n",
    "        prob = pipeline.predict_proba([word])[0][1]\n",
    "        words_dict[word] = prob\n",
    "        \n",
    "    df = pd.DataFrame([words_dict]).T\n",
    "    df.columns = ['probability']\n",
    "    df = df.sort_values('probability', ascending=False)\n",
    "    \n",
    "    return df"
   ]
  },
  {
   "cell_type": "code",
   "execution_count": 34,
   "metadata": {
    "collapsed": false
   },
   "outputs": [
    {
     "data": {
      "text/html": [
       "<div>\n",
       "<style>\n",
       "    .dataframe thead tr:only-child th {\n",
       "        text-align: right;\n",
       "    }\n",
       "\n",
       "    .dataframe thead th {\n",
       "        text-align: left;\n",
       "    }\n",
       "\n",
       "    .dataframe tbody tr th {\n",
       "        vertical-align: top;\n",
       "    }\n",
       "</style>\n",
       "<table border=\"1\" class=\"dataframe\">\n",
       "  <thead>\n",
       "    <tr style=\"text-align: right;\">\n",
       "      <th></th>\n",
       "      <th>probability</th>\n",
       "    </tr>\n",
       "  </thead>\n",
       "  <tbody>\n",
       "    <tr>\n",
       "      <th>fuck</th>\n",
       "      <td>0.999999</td>\n",
       "    </tr>\n",
       "    <tr>\n",
       "      <th>fucking</th>\n",
       "      <td>0.999998</td>\n",
       "    </tr>\n",
       "    <tr>\n",
       "      <th>hey</th>\n",
       "      <td>0.284114</td>\n",
       "    </tr>\n",
       "    <tr>\n",
       "      <th>call</th>\n",
       "      <td>0.260799</td>\n",
       "    </tr>\n",
       "    <tr>\n",
       "      <th>dont</th>\n",
       "      <td>0.230324</td>\n",
       "    </tr>\n",
       "    <tr>\n",
       "      <th>oh</th>\n",
       "      <td>0.203497</td>\n",
       "    </tr>\n",
       "    <tr>\n",
       "      <th>old</th>\n",
       "      <td>0.202654</td>\n",
       "    </tr>\n",
       "    <tr>\n",
       "      <th>man</th>\n",
       "      <td>0.188445</td>\n",
       "    </tr>\n",
       "    <tr>\n",
       "      <th>guy</th>\n",
       "      <td>0.183067</td>\n",
       "    </tr>\n",
       "    <tr>\n",
       "      <th>away</th>\n",
       "      <td>0.182039</td>\n",
       "    </tr>\n",
       "    <tr>\n",
       "      <th>everything</th>\n",
       "      <td>0.162017</td>\n",
       "    </tr>\n",
       "    <tr>\n",
       "      <th>deleting</th>\n",
       "      <td>0.159318</td>\n",
       "    </tr>\n",
       "    <tr>\n",
       "      <th>big</th>\n",
       "      <td>0.158376</td>\n",
       "    </tr>\n",
       "    <tr>\n",
       "      <th>american</th>\n",
       "      <td>0.154784</td>\n",
       "    </tr>\n",
       "    <tr>\n",
       "      <th>truth</th>\n",
       "      <td>0.149697</td>\n",
       "    </tr>\n",
       "    <tr>\n",
       "      <th>yeah</th>\n",
       "      <td>0.117441</td>\n",
       "    </tr>\n",
       "    <tr>\n",
       "      <th>site</th>\n",
       "      <td>0.117022</td>\n",
       "    </tr>\n",
       "    <tr>\n",
       "      <th>self</th>\n",
       "      <td>0.111571</td>\n",
       "    </tr>\n",
       "    <tr>\n",
       "      <th>encyclopedia</th>\n",
       "      <td>0.101029</td>\n",
       "    </tr>\n",
       "    <tr>\n",
       "      <th>school</th>\n",
       "      <td>0.100314</td>\n",
       "    </tr>\n",
       "    <tr>\n",
       "      <th>care</th>\n",
       "      <td>0.096767</td>\n",
       "    </tr>\n",
       "    <tr>\n",
       "      <th>love</th>\n",
       "      <td>0.096692</td>\n",
       "    </tr>\n",
       "    <tr>\n",
       "      <th>admin</th>\n",
       "      <td>0.090148</td>\n",
       "    </tr>\n",
       "    <tr>\n",
       "      <th>kind of</th>\n",
       "      <td>0.084168</td>\n",
       "    </tr>\n",
       "    <tr>\n",
       "      <th>kind</th>\n",
       "      <td>0.084168</td>\n",
       "    </tr>\n",
       "    <tr>\n",
       "      <th>guess</th>\n",
       "      <td>0.083709</td>\n",
       "    </tr>\n",
       "    <tr>\n",
       "      <th>she</th>\n",
       "      <td>0.082281</td>\n",
       "    </tr>\n",
       "    <tr>\n",
       "      <th>stay</th>\n",
       "      <td>0.072299</td>\n",
       "    </tr>\n",
       "    <tr>\n",
       "      <th>removing</th>\n",
       "      <td>0.070448</td>\n",
       "    </tr>\n",
       "    <tr>\n",
       "      <th>bad</th>\n",
       "      <td>0.068977</td>\n",
       "    </tr>\n",
       "    <tr>\n",
       "      <th>...</th>\n",
       "      <td>...</td>\n",
       "    </tr>\n",
       "    <tr>\n",
       "      <th>known</th>\n",
       "      <td>0.010713</td>\n",
       "    </tr>\n",
       "    <tr>\n",
       "      <th>aware</th>\n",
       "      <td>0.010138</td>\n",
       "    </tr>\n",
       "    <tr>\n",
       "      <th>support</th>\n",
       "      <td>0.010035</td>\n",
       "    </tr>\n",
       "    <tr>\n",
       "      <th>quite</th>\n",
       "      <td>0.009992</td>\n",
       "    </tr>\n",
       "    <tr>\n",
       "      <th>idea</th>\n",
       "      <td>0.009861</td>\n",
       "    </tr>\n",
       "    <tr>\n",
       "      <th>copyright</th>\n",
       "      <td>0.009537</td>\n",
       "    </tr>\n",
       "    <tr>\n",
       "      <th>http www</th>\n",
       "      <td>0.009417</td>\n",
       "    </tr>\n",
       "    <tr>\n",
       "      <th>www</th>\n",
       "      <td>0.009417</td>\n",
       "    </tr>\n",
       "    <tr>\n",
       "      <th>view</th>\n",
       "      <td>0.009287</td>\n",
       "    </tr>\n",
       "    <tr>\n",
       "      <th>specific</th>\n",
       "      <td>0.008689</td>\n",
       "    </tr>\n",
       "    <tr>\n",
       "      <th>date</th>\n",
       "      <td>0.008282</td>\n",
       "    </tr>\n",
       "    <tr>\n",
       "      <th>related</th>\n",
       "      <td>0.008143</td>\n",
       "    </tr>\n",
       "    <tr>\n",
       "      <th>regards</th>\n",
       "      <td>0.007011</td>\n",
       "    </tr>\n",
       "    <tr>\n",
       "      <th>lead</th>\n",
       "      <td>0.006941</td>\n",
       "    </tr>\n",
       "    <tr>\n",
       "      <th>for speedy deletion</th>\n",
       "      <td>0.006039</td>\n",
       "    </tr>\n",
       "    <tr>\n",
       "      <th>speedy</th>\n",
       "      <td>0.006039</td>\n",
       "    </tr>\n",
       "    <tr>\n",
       "      <th>for speedy</th>\n",
       "      <td>0.006039</td>\n",
       "    </tr>\n",
       "    <tr>\n",
       "      <th>speedy deletion</th>\n",
       "      <td>0.006039</td>\n",
       "    </tr>\n",
       "    <tr>\n",
       "      <th>version</th>\n",
       "      <td>0.005783</td>\n",
       "    </tr>\n",
       "    <tr>\n",
       "      <th>consensus</th>\n",
       "      <td>0.004762</td>\n",
       "    </tr>\n",
       "    <tr>\n",
       "      <th>the main</th>\n",
       "      <td>0.004705</td>\n",
       "    </tr>\n",
       "    <tr>\n",
       "      <th>main</th>\n",
       "      <td>0.004705</td>\n",
       "    </tr>\n",
       "    <tr>\n",
       "      <th>paragraph</th>\n",
       "      <td>0.004387</td>\n",
       "    </tr>\n",
       "    <tr>\n",
       "      <th>sandbox</th>\n",
       "      <td>0.004121</td>\n",
       "    </tr>\n",
       "    <tr>\n",
       "      <th>the sandbox</th>\n",
       "      <td>0.004121</td>\n",
       "    </tr>\n",
       "    <tr>\n",
       "      <th>redirect</th>\n",
       "      <td>0.003021</td>\n",
       "    </tr>\n",
       "    <tr>\n",
       "      <th>states</th>\n",
       "      <td>0.002913</td>\n",
       "    </tr>\n",
       "    <tr>\n",
       "      <th>material</th>\n",
       "      <td>0.002478</td>\n",
       "    </tr>\n",
       "    <tr>\n",
       "      <th>category</th>\n",
       "      <td>0.002444</td>\n",
       "    </tr>\n",
       "    <tr>\n",
       "      <th>evidence</th>\n",
       "      <td>0.001885</td>\n",
       "    </tr>\n",
       "  </tbody>\n",
       "</table>\n",
       "<p>983 rows × 1 columns</p>\n",
       "</div>"
      ],
      "text/plain": [
       "                     probability\n",
       "fuck                    0.999999\n",
       "fucking                 0.999998\n",
       "hey                     0.284114\n",
       "call                    0.260799\n",
       "dont                    0.230324\n",
       "oh                      0.203497\n",
       "old                     0.202654\n",
       "man                     0.188445\n",
       "guy                     0.183067\n",
       "away                    0.182039\n",
       "everything              0.162017\n",
       "deleting                0.159318\n",
       "big                     0.158376\n",
       "american                0.154784\n",
       "truth                   0.149697\n",
       "yeah                    0.117441\n",
       "site                    0.117022\n",
       "self                    0.111571\n",
       "encyclopedia            0.101029\n",
       "school                  0.100314\n",
       "care                    0.096767\n",
       "love                    0.096692\n",
       "admin                   0.090148\n",
       "kind of                 0.084168\n",
       "kind                    0.084168\n",
       "guess                   0.083709\n",
       "she                     0.082281\n",
       "stay                    0.072299\n",
       "removing                0.070448\n",
       "bad                     0.068977\n",
       "...                          ...\n",
       "known                   0.010713\n",
       "aware                   0.010138\n",
       "support                 0.010035\n",
       "quite                   0.009992\n",
       "idea                    0.009861\n",
       "copyright               0.009537\n",
       "http www                0.009417\n",
       "www                     0.009417\n",
       "view                    0.009287\n",
       "specific                0.008689\n",
       "date                    0.008282\n",
       "related                 0.008143\n",
       "regards                 0.007011\n",
       "lead                    0.006941\n",
       "for speedy deletion     0.006039\n",
       "speedy                  0.006039\n",
       "for speedy              0.006039\n",
       "speedy deletion         0.006039\n",
       "version                 0.005783\n",
       "consensus               0.004762\n",
       "the main                0.004705\n",
       "main                    0.004705\n",
       "paragraph               0.004387\n",
       "sandbox                 0.004121\n",
       "the sandbox             0.004121\n",
       "redirect                0.003021\n",
       "states                  0.002913\n",
       "material                0.002478\n",
       "category                0.002444\n",
       "evidence                0.001885\n",
       "\n",
       "[983 rows x 1 columns]"
      ]
     },
     "execution_count": 34,
     "metadata": {},
     "output_type": "execute_result"
    }
   ],
   "source": [
    "# Generate word list\n",
    "words = word_probabilities(train['comment_text'], model_binary)\n",
    "\n",
    "words"
   ]
  },
  {
   "cell_type": "code",
   "execution_count": null,
   "metadata": {
    "collapsed": true
   },
   "outputs": [],
   "source": [
    "# Don't un-comment this unless you want to see the worst of humanity :)\n",
    "\n",
    "# train['pred'] = pred_proba\n",
    "# train.sort_values('pred', ascending=False)"
   ]
  }
 ],
 "metadata": {
  "kernelspec": {
   "display_name": "Python 3",
   "language": "python",
   "name": "python3"
  },
  "language_info": {
   "codemirror_mode": {
    "name": "ipython",
    "version": 3
   },
   "file_extension": ".py",
   "mimetype": "text/x-python",
   "name": "python",
   "nbconvert_exporter": "python",
   "pygments_lexer": "ipython3",
   "version": "3.6.0"
  }
 },
 "nbformat": 4,
 "nbformat_minor": 2
}
