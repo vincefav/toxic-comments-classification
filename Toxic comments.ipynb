{
 "cells": [
  {
   "cell_type": "code",
   "execution_count": 1,
   "metadata": {
    "collapsed": false
   },
   "outputs": [
    {
     "name": "stdout",
     "output_type": "stream",
     "text": [
      "Populating the interactive namespace from numpy and matplotlib\n"
     ]
    }
   ],
   "source": [
    "import pandas as pd\n",
    "import numpy as np\n",
    "import matplotlib.pyplot as plt\n",
    "import seaborn as sns\n",
    "from xgboost import XGBClassifier, XGBRegressor\n",
    "\n",
    "from sklearn.model_selection import train_test_split, cross_val_score, GridSearchCV\n",
    "from sklearn.metrics import roc_auc_score\n",
    "\n",
    "%pylab inline"
   ]
  },
  {
   "cell_type": "code",
   "execution_count": 2,
   "metadata": {
    "collapsed": true
   },
   "outputs": [],
   "source": [
    "train = pd.read_csv('train.csv')\n",
    "test = pd.read_csv('test.csv')\n",
    "combi = pd.concat([train, test])"
   ]
  },
  {
   "cell_type": "code",
   "execution_count": 3,
   "metadata": {
    "collapsed": false
   },
   "outputs": [],
   "source": [
    "y = np.zeros_like(train['toxic'])\n",
    "\n",
    "y = np.where(train.toxic == 1, 'toxic', y)\n",
    "y = np.where(train['severe_toxic'] == 1, 'severe_toxic', y)\n",
    "y = np.where(train['obscene'] == 1, 'obscene', y)\n",
    "y = np.where(train['threat'] == 1, 'threat', y)\n",
    "y = np.where(train['insult'] == 1, 'insult', y)\n",
    "y = np.where(train['identity_hate'] == 1, 'identity_hate', y)\n",
    "y = np.where(y == '0', 'ok', y)"
   ]
  },
  {
   "cell_type": "code",
   "execution_count": null,
   "metadata": {
    "collapsed": false
   },
   "outputs": [],
   "source": [
    "from sklearn.feature_extraction.text import TfidfVectorizer\n",
    "from sklearn.pipeline import Pipeline\n",
    "from sklearn.linear_model import LogisticRegression\n",
    "from sklearn.naive_bayes import MultinomialNB\n",
    "\n",
    "pl = Pipeline([\n",
    "    ('tfidf', TfidfVectorizer()),\n",
    "    ('classify', MultinomialNB())\n",
    "])\n",
    "\n",
    "x = train['comment_text']\n",
    "\n",
    "params = [\n",
    "    {\n",
    "        'tfidf__max_df': np.arange(.02,.21,.02),\n",
    "        'tfidf__min_df': [2,3],\n",
    "        'tfidf__ngram_range': [(1,1), (1,2), (1,3)],\n",
    "        'tfidf__norm': ['l2'],\n",
    "    },\n",
    "]\n",
    "\n",
    "grid =\\\n",
    "GridSearchCV(pl, cv=3, n_jobs=-1, param_grid=params, scoring='accuracy')\\\n",
    ".fit(x, y)\n",
    "\n",
    "model = grid.best_estimator_\n",
    "print(model)\n",
    "cv = cross_val_score(model, x, y, cv=4, scoring='accuracy')\n",
    "\n",
    "print('Mean score:', cv.mean())\n",
    "print('Std Dev:   ', cv.std())"
   ]
  },
  {
   "cell_type": "code",
   "execution_count": null,
   "metadata": {
    "collapsed": true
   },
   "outputs": [],
   "source": [
    "from sklearn.feature_extraction.text import TfidfVectorizer\n",
    "from sklearn.pipeline import Pipeline\n",
    "from sklearn.linear_model import LogisticRegression\n",
    "from sklearn.naive_bayes import MultinomialNB\n",
    "\n",
    "pl = Pipeline([\n",
    "    ('tfidf', TfidfVectorizer()),\n",
    "    ('classify', LogisticRegression())\n",
    "])\n",
    "\n",
    "x = train['comment_text']\n",
    "\n",
    "params = [\n",
    "    {\n",
    "        'tfidf__max_df': np.arange(.01,.10,.01),\n",
    "        'tfidf__min_df': [2,3,4],\n",
    "        'tfidf__ngram_range': [(1,2)],\n",
    "        'tfidf__norm': ['l2'],\n",
    "    },\n",
    "]\n",
    "\n",
    "grid =\\\n",
    "GridSearchCV(pl, cv=3, n_jobs=-1, param_grid=params, scoring='accuracy')\\\n",
    ".fit(x, y)\n",
    "\n",
    "model = grid.best_estimator_\n",
    "print(model)\n",
    "cv = cross_val_score(model, x, y, cv=4, scoring='accuracy')\n",
    "\n",
    "print('Mean score:', cv.mean())\n",
    "print('Std Dev:   ', cv.std())"
   ]
  }
 ],
 "metadata": {
  "kernelspec": {
   "display_name": "Python 3",
   "language": "python",
   "name": "python3"
  },
  "language_info": {
   "codemirror_mode": {
    "name": "ipython",
    "version": 3
   },
   "file_extension": ".py",
   "mimetype": "text/x-python",
   "name": "python",
   "nbconvert_exporter": "python",
   "pygments_lexer": "ipython3",
   "version": "3.6.0"
  }
 },
 "nbformat": 4,
 "nbformat_minor": 2
}
